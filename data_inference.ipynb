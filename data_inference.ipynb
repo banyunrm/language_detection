{
  "nbformat": 4,
  "nbformat_minor": 0,
  "metadata": {
    "colab": {
      "provenance": []
    },
    "kernelspec": {
      "name": "python3",
      "display_name": "Python 3"
    },
    "language_info": {
      "name": "python"
    }
  },
  "cells": [
    {
      "cell_type": "markdown",
      "source": [
        "## **I. Import Library**"
      ],
      "metadata": {
        "id": "prsFxDXAtd5i"
      }
    },
    {
      "cell_type": "code",
      "execution_count": 7,
      "metadata": {
        "id": "kajAXL4QtVs1"
      },
      "outputs": [],
      "source": [
        "import numpy as np\n",
        "import tensorflow as tf\n",
        "import json\n",
        "import pickle\n",
        "from tensorflow.keras.models import load_model\n",
        "from tensorflow.keras.layers import TextVectorization"
      ]
    },
    {
      "cell_type": "markdown",
      "source": [
        "## **II. Load TextVectorizer Config & Vocabulary**"
      ],
      "metadata": {
        "id": "deWFy5v8tnlp"
      }
    },
    {
      "cell_type": "code",
      "source": [
        "with open('text_vectorizer_config.json', 'r') as f:\n",
        "    config = json.load(f)\n",
        "\n",
        "with open('text_vectorizer_vocab.txt', 'r') as f:\n",
        "    vocab = f.read().splitlines()"
      ],
      "metadata": {
        "id": "5EVYTbT-tj-u"
      },
      "execution_count": 8,
      "outputs": []
    },
    {
      "cell_type": "markdown",
      "source": [
        "## **III. TextVectorization Layer Reconstruction**"
      ],
      "metadata": {
        "id": "ls3kBemOuVEX"
      }
    },
    {
      "cell_type": "code",
      "source": [
        "text_vectorizer = TextVectorization.from_config(config)\n",
        "text_vectorizer.set_vocabulary(vocab)"
      ],
      "metadata": {
        "id": "22thT8IvuUQ-"
      },
      "execution_count": 9,
      "outputs": []
    },
    {
      "cell_type": "markdown",
      "source": [
        "## **IV. Load Trained CNN Model**"
      ],
      "metadata": {
        "id": "5vodpewpu40J"
      }
    },
    {
      "cell_type": "code",
      "source": [
        "model = load_model('cnn_model.h5')"
      ],
      "metadata": {
        "colab": {
          "base_uri": "https://localhost:8080/"
        },
        "id": "h-aKC_rCu-li",
        "outputId": "440ecba9-db55-4712-a4d0-4e49599b6f17"
      },
      "execution_count": 10,
      "outputs": [
        {
          "output_type": "stream",
          "name": "stderr",
          "text": [
            "WARNING:absl:Compiled the loaded model, but the compiled metrics have yet to be built. `model.compile_metrics` will be empty until you train or evaluate the model.\n"
          ]
        }
      ]
    },
    {
      "cell_type": "markdown",
      "source": [
        "## **V. Load LabelEncoder**"
      ],
      "metadata": {
        "id": "qK21k99f0zDH"
      }
    },
    {
      "cell_type": "code",
      "source": [
        "with open('label_encoder.pkl', 'rb') as f:\n",
        "    label_encoder = pickle.load(f)"
      ],
      "metadata": {
        "id": "YSgSHCK60x4x"
      },
      "execution_count": 11,
      "outputs": []
    },
    {
      "cell_type": "markdown",
      "source": [
        "## **VI. Inference Function**"
      ],
      "metadata": {
        "id": "9-ZlPxG3vHQ_"
      }
    },
    {
      "cell_type": "code",
      "source": [
        "def predict(text):\n",
        "    text_input = tf.constant([text])\n",
        "    text_vectorized = text_vectorizer(text_input)\n",
        "    prediction = model.predict(text_vectorized)\n",
        "    predicted_label_idx = np.argmax(prediction, axis=1)[0]\n",
        "    predicted_language = label_encoder.inverse_transform([predicted_label_idx])[0]\n",
        "    confidence = float(np.max(prediction))\n",
        "    return predicted_language, confidence"
      ],
      "metadata": {
        "id": "luzaWL2JvBEV"
      },
      "execution_count": 12,
      "outputs": []
    },
    {
      "cell_type": "markdown",
      "source": [
        "## **VII. Test with Dummy Data**"
      ],
      "metadata": {
        "id": "vkO5AuaivTFo"
      }
    },
    {
      "cell_type": "code",
      "source": [
        "dummy_texts = [\n",
        "    \"Otra forma de decir lo mismo que puedes decir\",\n",
        "    \"I love machine learning and deep learning.\",\n",
        "    \"क्या आपको बुरा लगा अगर मैं यहाँ कूद जाऊं?\",\n",
        "    \"αλλά δεν μπορείτε να αποκτήσετε εμπειρία μέχρι\"\n",
        "]\n",
        "\n",
        "for i, text in enumerate(dummy_texts):\n",
        "    language, prob = predict(text)\n",
        "    print(f\"[{i+1}] Text: {text}\")\n",
        "    print(f\"    → Predicted Language: {language} | Confidence: {prob:.2f}\\n\")"
      ],
      "metadata": {
        "colab": {
          "base_uri": "https://localhost:8080/"
        },
        "id": "1vZo19z1vWIH",
        "outputId": "6735a88a-b633-4784-b6e9-12fcc5ce0b3c"
      },
      "execution_count": 13,
      "outputs": [
        {
          "output_type": "stream",
          "name": "stdout",
          "text": [
            "\u001b[1m1/1\u001b[0m \u001b[32m━━━━━━━━━━━━━━━━━━━━\u001b[0m\u001b[37m\u001b[0m \u001b[1m0s\u001b[0m 108ms/step\n",
            "[1] Text: Otra forma de decir lo mismo que puedes decir\n",
            "    → Predicted Language: Spanish | Confidence: 1.00\n",
            "\n",
            "\u001b[1m1/1\u001b[0m \u001b[32m━━━━━━━━━━━━━━━━━━━━\u001b[0m\u001b[37m\u001b[0m \u001b[1m0s\u001b[0m 49ms/step\n",
            "[2] Text: I love machine learning and deep learning.\n",
            "    → Predicted Language: English | Confidence: 1.00\n",
            "\n",
            "\u001b[1m1/1\u001b[0m \u001b[32m━━━━━━━━━━━━━━━━━━━━\u001b[0m\u001b[37m\u001b[0m \u001b[1m0s\u001b[0m 45ms/step\n",
            "[3] Text: क्या आपको बुरा लगा अगर मैं यहाँ कूद जाऊं?\n",
            "    → Predicted Language: Hindi | Confidence: 1.00\n",
            "\n",
            "\u001b[1m1/1\u001b[0m \u001b[32m━━━━━━━━━━━━━━━━━━━━\u001b[0m\u001b[37m\u001b[0m \u001b[1m0s\u001b[0m 62ms/step\n",
            "[4] Text: αλλά δεν μπορείτε να αποκτήσετε εμπειρία μέχρι\n",
            "    → Predicted Language: Greek | Confidence: 1.00\n",
            "\n"
          ]
        }
      ]
    }
  ]
}